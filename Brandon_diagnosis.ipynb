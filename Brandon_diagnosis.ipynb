{
 "cells": [
  {
   "cell_type": "code",
   "execution_count": 1,
   "metadata": {},
   "outputs": [
    {
     "name": "stderr",
     "output_type": "stream",
     "text": [
      "C:\\Users\\bchou\\Anaconda3\\lib\\site-packages\\IPython\\core\\interactiveshell.py:3020: DtypeWarning: Columns (5) have mixed types. Specify dtype option on import or set low_memory=False.\n",
      "  interactivity=interactivity, compiler=compiler, result=result)\n"
     ]
    },
    {
     "name": "stdout",
     "output_type": "stream",
     "text": [
      "<class 'pandas.core.frame.DataFrame'>\n",
      "Int64Index: 869894 entries, 1 to 1048574\n",
      "Data columns (total 9 columns):\n",
      "user_id            869894 non-null object\n",
      "age                869894 non-null float64\n",
      "sex                869894 non-null object\n",
      "country            869894 non-null object\n",
      "checkin_date       869894 non-null datetime64[ns]\n",
      "trackable_id       869894 non-null object\n",
      "trackable_type     869894 non-null object\n",
      "trackable_name     869894 non-null object\n",
      "trackable_value    869894 non-null object\n",
      "dtypes: datetime64[ns](1), float64(1), object(7)\n",
      "memory usage: 66.4+ MB\n"
     ]
    }
   ],
   "source": [
    "import numpy as np\n",
    "import pandas as pd\n",
    "%matplotlib inline\n",
    "import matplotlib.pyplot as plt\n",
    "\n",
    "df=pd.read_csv('Data/fd-export.csv')\n",
    "df = df.dropna()\n",
    "df['checkin_date'] = pd.to_datetime(df['checkin_date'])\n",
    "df.info()"
   ]
  },
  {
   "cell_type": "markdown",
   "metadata": {},
   "source": [
    "## Data Cleaning\n"
   ]
  },
  {
   "cell_type": "code",
   "execution_count": 3,
   "metadata": {},
   "outputs": [],
   "source": [
    "df[\"trackable_name\"] = df[\"trackable_name\"].str.lower()\n",
    "df[\"trackable_name\"]=  df[\"trackable_name\"].str.replace(\"vitamin d3\",\"vitamin d\")\n",
    "df[\"trackable_name\"]=  df[\"trackable_name\"].str.replace(\"vit d\",\"vitamin d\")\n",
    "df[\"trackable_name\"]=  df[\"trackable_name\"].str.replace(\"vit c\",\"vitamin c\")\n",
    "df[\"trackable_name\"]=  df[\"trackable_name\"].str.replace(\"omega-3\",\"omega 3\")\n",
    "df[\"trackable_name\"]=  df[\"trackable_name\"].str.replace(\"fish oil\",\"omega 3\")"
   ]
  },
  {
   "cell_type": "markdown",
   "metadata": {},
   "source": [
    "### Filtering to the diseases we want to track: MS, RA, Psoriasis, Lupus, Scleroderma, Crohn, Colitis, IBD"
   ]
  },
  {
   "cell_type": "code",
   "execution_count": 4,
   "metadata": {},
   "outputs": [
    {
     "data": {
      "text/html": [
       "<div>\n",
       "<style scoped>\n",
       "    .dataframe tbody tr th:only-of-type {\n",
       "        vertical-align: middle;\n",
       "    }\n",
       "\n",
       "    .dataframe tbody tr th {\n",
       "        vertical-align: top;\n",
       "    }\n",
       "\n",
       "    .dataframe thead th {\n",
       "        text-align: right;\n",
       "    }\n",
       "</style>\n",
       "<table border=\"1\" class=\"dataframe\">\n",
       "  <thead>\n",
       "    <tr style=\"text-align: right;\">\n",
       "      <th></th>\n",
       "      <th>user_id</th>\n",
       "      <th>age</th>\n",
       "      <th>sex</th>\n",
       "      <th>country</th>\n",
       "      <th>checkin_date</th>\n",
       "      <th>trackable_id</th>\n",
       "      <th>trackable_type</th>\n",
       "      <th>trackable_name</th>\n",
       "      <th>trackable_value</th>\n",
       "    </tr>\n",
       "  </thead>\n",
       "  <tbody>\n",
       "    <tr>\n",
       "      <th>1</th>\n",
       "      <td>QEVuQwEAWRNGnuTRqXG2996KSkTIEw==</td>\n",
       "      <td>31.0</td>\n",
       "      <td>male</td>\n",
       "      <td>US</td>\n",
       "      <td>2015-11-26</td>\n",
       "      <td>1069</td>\n",
       "      <td>Condition</td>\n",
       "      <td>ulcerative colitis</td>\n",
       "      <td>0</td>\n",
       "    </tr>\n",
       "    <tr>\n",
       "      <th>2</th>\n",
       "      <td>QEVuQwEA+WkNxtp/qkHvN2YmTBBDqg==</td>\n",
       "      <td>1.0</td>\n",
       "      <td>female</td>\n",
       "      <td>CA</td>\n",
       "      <td>2017-04-28</td>\n",
       "      <td>3168</td>\n",
       "      <td>Condition</td>\n",
       "      <td>pain in left upper arm felt like i was getting...</td>\n",
       "      <td>4</td>\n",
       "    </tr>\n",
       "    <tr>\n",
       "      <th>3</th>\n",
       "      <td>QEVuQwEA+WkNxtp/qkHvN2YmTBBDqg==</td>\n",
       "      <td>1.0</td>\n",
       "      <td>female</td>\n",
       "      <td>CA</td>\n",
       "      <td>2017-04-28</td>\n",
       "      <td>3169</td>\n",
       "      <td>Condition</td>\n",
       "      <td>hip pain when gettin up</td>\n",
       "      <td>3</td>\n",
       "    </tr>\n",
       "    <tr>\n",
       "      <th>4</th>\n",
       "      <td>QEVuQwEA+WkNxtp/qkHvN2YmTBBDqg==</td>\n",
       "      <td>1.0</td>\n",
       "      <td>female</td>\n",
       "      <td>CA</td>\n",
       "      <td>2017-04-28</td>\n",
       "      <td>3170</td>\n",
       "      <td>Condition</td>\n",
       "      <td>pain in hand joints</td>\n",
       "      <td>4</td>\n",
       "    </tr>\n",
       "    <tr>\n",
       "      <th>5</th>\n",
       "      <td>QEVuQwEA+WkNxtp/qkHvN2YmTBBDqg==</td>\n",
       "      <td>1.0</td>\n",
       "      <td>female</td>\n",
       "      <td>CA</td>\n",
       "      <td>2017-04-28</td>\n",
       "      <td>3171</td>\n",
       "      <td>Condition</td>\n",
       "      <td>numbness in right hand</td>\n",
       "      <td>2</td>\n",
       "    </tr>\n",
       "  </tbody>\n",
       "</table>\n",
       "</div>"
      ],
      "text/plain": [
       "                            user_id   age     sex country checkin_date  \\\n",
       "1  QEVuQwEAWRNGnuTRqXG2996KSkTIEw==  31.0    male      US   2015-11-26   \n",
       "2  QEVuQwEA+WkNxtp/qkHvN2YmTBBDqg==   1.0  female      CA   2017-04-28   \n",
       "3  QEVuQwEA+WkNxtp/qkHvN2YmTBBDqg==   1.0  female      CA   2017-04-28   \n",
       "4  QEVuQwEA+WkNxtp/qkHvN2YmTBBDqg==   1.0  female      CA   2017-04-28   \n",
       "5  QEVuQwEA+WkNxtp/qkHvN2YmTBBDqg==   1.0  female      CA   2017-04-28   \n",
       "\n",
       "  trackable_id trackable_type  \\\n",
       "1         1069      Condition   \n",
       "2         3168      Condition   \n",
       "3         3169      Condition   \n",
       "4         3170      Condition   \n",
       "5         3171      Condition   \n",
       "\n",
       "                                      trackable_name trackable_value  \n",
       "1                                 ulcerative colitis               0  \n",
       "2  pain in left upper arm felt like i was getting...               4  \n",
       "3                            hip pain when gettin up               3  \n",
       "4                                pain in hand joints               4  \n",
       "5                             numbness in right hand               2  "
      ]
     },
     "execution_count": 4,
     "metadata": {},
     "output_type": "execute_result"
    }
   ],
   "source": [
    "# group by user and add a column per user stating whether they \n",
    "# have that disease or not using binary values for classification\n",
    "\n",
    "# first assign the above diseases as y column values initialized to 0\n",
    "# second loop through all the diseases and classify the group with 1 if they have that disease\n",
    "\n",
    "user_groups = df.groupby('user_id')\n",
    "user_groups[df[\"trackable_name\"].str.contains('^ms$|multiple sclerosis',regex=True)]"
   ]
  }
 ],
 "metadata": {
  "kernelspec": {
   "display_name": "Python 3",
   "language": "python",
   "name": "python3"
  },
  "language_info": {
   "codemirror_mode": {
    "name": "ipython",
    "version": 3
   },
   "file_extension": ".py",
   "mimetype": "text/x-python",
   "name": "python",
   "nbconvert_exporter": "python",
   "pygments_lexer": "ipython3",
   "version": "3.7.1"
  }
 },
 "nbformat": 4,
 "nbformat_minor": 2
}
